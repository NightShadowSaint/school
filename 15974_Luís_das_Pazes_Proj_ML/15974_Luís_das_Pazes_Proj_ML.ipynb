{
  "nbformat": 4,
  "nbformat_minor": 0,
  "metadata": {
    "colab": {
      "name": "15974_Luís_das_Pazes_Proj_ML.ipynb",
      "provenance": [],
      "collapsed_sections": []
    },
    "kernelspec": {
      "name": "python3",
      "display_name": "Python 3"
    }
  },
  "cells": [
    {
      "cell_type": "markdown",
      "metadata": {
        "id": "OqhV-HCfGkM-"
      },
      "source": [
        "# Tópicos de Engenharia Informática\n",
        "# Machine Learning\n",
        "\n",
        "\"Machine Learning é a área de computação que estuda a utilização e melhoramento de algoritmos, através de testagem e Informação.\"\n",
        "\n",
        "Neste relatório, irá ser explorado as diversas áreas que utilizam machine learning, focando na indústria dos videjogos, e na habilidade de um computador de construir universos inteiros através de algoritmos. "
      ]
    },
    {
      "cell_type": "markdown",
      "metadata": {
        "id": "rxJ-0PaKqLCm"
      },
      "source": [
        "Existem várias áreas onde machine learning pode ser útil, tais como:\n",
        "reconhecimento facial;\n",
        "\n",
        ">reconhecimento de voz e frases;\n",
        "\n",
        ">produção de energia e controlo de temperaturas;\n",
        "\n",
        ">previsão de rotas rodoviárias e aeroespaciais;\n",
        "\n",
        ">cálculos matemáticos e do mercado financeiro;\n",
        "\n",
        ">processamento genético (no campo da Biologia) e reconhecimento de doenças e medicamentos;\n",
        "\n",
        ">análise de obras de arte;\n",
        "\n",
        ">separação e classificação de e-mails;\n",
        "\n",
        ">reconhecimento e pesquisa de imagens;\n",
        "\n",
        ">pesquisas de mercado;\n",
        "\n",
        ">previsão do tempo;\n",
        "\n",
        ">pesquisa de atuação e satisfação dentro de uma empresa;\n",
        "\n",
        ">reconhecimento da linguagem não verbal ou informal por meio de computadores;\n",
        "\n",
        ">sugestão de amizades nas redes sociais;\n",
        "\n",
        ">atendimento personalizado ao cliente, por meio de robôs e sistemas que auxiliam na identificação (e respostas rápidas) de dúvidas.\n",
        "\n",
        ">etc.\n",
        "\n",
        "Outra área em que Machine Learning é muito usado e necessário é na área dos videojogos."
      ]
    },
    {
      "cell_type": "markdown",
      "metadata": {
        "id": "dLWQkv1NwypO"
      },
      "source": [
        "Com um valor de mais de $145 biliões de dólares americanos, a indústria dos videojogos é a maior industria de entertenimento atualemente. Como tal, esta tem vindo a necessitar de tecnologias cada vez mais avançadas e conceitos inovadores. Um destes é Machine Learning. \n",
        "\n",
        "Como os videojogos são fundamentalmente programas de software, estes podem disfrutar de tecnologias disponíveis para a construção dos mesmos.\n",
        "\n",
        "Existem várias formas em que Machine Learning pode ser usado em jogos, alguns exemplos são:\n",
        "\n",
        "> Algoritmos que jogam como NPCs(Personagens Não-Jogáveis) - \n",
        "No momento, os seus oponentes num videojogo são NPCs (Personagens Não-Jogáveis) pré-programados, mas um NPC baseado em machine learning pode permitir que jogue contra inimigos menos previsíveis. Esses inimigos também podem ajustar o seu nível de dificuldade. Conforme se aprende a jogar, os seus inimigos podem ficar mais espertos e responder de maneiras exclusivas com base nas suas ações dentro do jogo.\n",
        "As empresas já estão trabalhando nas primeiras aplicações de NPCs baseados em machine learning. O SEED da EA treina NPCs imitando os melhores jogadores. Os seus NPCs aprendem movimentos e ações dinâmicas, e a usar ações de jogadores humanos como dados de treino significa que o algoritmo treina quatro vezes mais rápido do que o treino de reforço sozinho.\n",
        "NPCs que podem ser ensinados são uma melhoria não trivial para o desenvolvimento de jogos. Atualmente, os estúdios de jogos gastam centenas de horas de trabalho criando NPCs. Não codificar NPCs pode reduzir significativamente o ciclo de desenvolvimento de um jogo. De semanas a horas.\n",
        "\n",
        "> Modelação de Sistemas completos -\n",
        "O ponto forte de um algoritmo de machine learning é sua capacidade de modelar sistemas complexos. Os desenvolvedores de videojogos estão constantemente tentando fazer com que os jogos sejam mais imersivos e realistas. Claro que, modelar o mundo real é incrivelmente difícil, mas um algoritmo de machine learning pode ajudar a prever os efeitos posteriores das ações de um jogador ou até mesmo modelar coisas que o jogador não pode controlar, como o clima.\n",
        "Um exemplo atual de modelagem complexa atualmente em produção é o modo de equipa final da FIFA. Conforme você seleciona a sua equipa de craques de futebol, o FIFA calcula uma pontuação de química da equipa com base no quanto as personalidades da sua equipa podem se dar bem ou não. Durante os jogos, o moral da equipa pode cair se você estiver perdendo ou cometendo pequenos erros. Também pode aumentar quando a multidão aplaude e você está jogando bem. As mudanças no moral afetam as habilidades dos jogadores, dentro do jogo. Mais erros acontecem quando o moral está baixo, e os arremessos de habilidade e acertos de sorte acontecem com mais frequência quando a sua equipa está jogando bem junta.\n",
        "\n",
        "> Tornar jogos mais lindos estéticamente - \n",
        "Outro componente para tornar os jogos mais realistas é torná-los mais bonitos. Os desenvolvedores de jogos também estão usando machine learning nessa frente. Num videojogo, muitas vezes as coisas parecem boas de longe, mas quando você se aproxima, os objetos são renderizados de maneira inadequada e ficam pixelados.\n",
        "A Microsoft está trabalhando com a Nvidia neste problema. Eles estão usando machine learning para melhorar as imagens e renderizações dinamicamente. Na vida real, quando você está longe de um objeto, os detalhes não são claros, mas conforme você se aproxima, pode notar detalhes mais sutis. Essa renderização dinâmica de detalhes mais finos é um desafio no qual os algoritmos de visão computacional podem ajudar.\n",
        "\n",
        "> Interações mais realistas - \n",
        "Outro grande desafio na construção de um mundo virtual realista é como os jogadores interagem com NPCs amigáveis. Em muitos jogos, você precisa falar com personagens script, a fim de completar os seus objetivos. No entanto, essas conversas são limitadas em escopo e geralmente seguem os prompts no ecrã.\n",
        "Usar o processamento de linguagem natural pode permitir que você converse em voz alta com os personagens do jogo e receba respostas reais, assim como falar com Siri, Alexa ou Google Assistente. Além disso, os jogos que incorporam VR haptics ou imagens do jogador podem permitir que algoritmos de visão de computador detectem a linguagem corporal e as intenções, melhorando ainda mais a experiência de interação com NPCs.\n",
        "\n",
        "> Criação de um Universo à mão - \n",
        "Uma das aplicações mais promissoras de machine learning no desenvolvimento de jogos é a criação de mundos em tempo real. Até agora, alguns dos videojogos mais populares são jogos de mapas abertos expansivos que permitem que você explore uma paisagem enorme. Esses jogos requerem milhares de horas de desenvolvedor e artista para serem renderizados. No entanto, os algoritmos de machine learning podem ajudar na detecção de caminhos e na criação de mundos. Um exemplo é um jogo como No Man’s Sky, com um número infinito de novos mundos para descobrir, todos gerados instantaneamente à medida que você explora."
      ]
    },
    {
      "cell_type": "markdown",
      "metadata": {
        "id": "BjxydKFlvp4H"
      },
      "source": [
        "Focando neste último ponto, e no jogo \"No Man's Sky\"\n",
        "\n",
        "Desenvolvido e publicado pelo estúdio independente Hello Games, ‘No Man’s Sky’ é construído em torno de um universo aberto determinístico gerado por procedimentos que contém um número incrivel de 18,4 quintilhões de planetas. O jogo também possui sistemas solares completos, sistemas climáticos variados, flora e fauna detalhadas, criaturas alienígenas fascinantes, bem como edifícios e naves espaciais totalmente funcionais.\n",
        "\n",
        "“O universo começa com uma única entrada, uma semente numérica arbitrária - o número de telefone de um dos programadores. Esse número é matematicamente transformado em mais sementes por uma série de algoritmos em cascata - um gerador computadorizado de pseudo-aleatoriedade ”, explicou Roc Morin de \"The Atlantic\" em um artigo detalhado sobre o jogo. “As sementes vão determinar as características de cada elemento do jogo. As máquinas, é claro, são incapazes de verdadeira aleatoriedade, então os números produzidos parecem aleatórios apenas porque os processos que os criam são muito complexos para a mente humana compreender. ”\n",
        "\n",
        "\"No Man’s Sky\" também apresenta o algoritmo \"Superformula\" \n",
        "\n",
        "![image.png](data:image/png;base64,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)\n",
        "\n",
        "Desenvolvido por Johan Gielis, que é capaz de descrever inúmeras formas biológicas com alguns parâmetros ajustáveis. De acordo com a Wikipedia, \"No Man’s Sky\" explora sistemas L, bem como equações fractais desenvolvidas por Aristid Lindenmayer em 1968 que podem criar estruturas semelhantes a algas e formas de vida vegetal. Em termos práticos, isso significa que as criaturas do \"No Man’s Sky\" são geradas por meio da distorção processual dos arquétipos, com cada um recebendo um perfil comportamental único.\n",
        "\n",
        "“Há uma lista de objetos que os animais conhecem”, disse o programador de Inteligência Artificial da Hello Games, Charlie Tangora, ao The Atlantic.\n",
        "\n",
        "Este jogo está disponível na PS4 e Xbox, assim como no PC."
      ]
    },
    {
      "cell_type": "markdown",
      "metadata": {
        "id": "7ZE7JKSdvJ6f"
      },
      "source": [
        "Bibliografia -\n",
        "\n",
        "https://en.wikipedia.org/wiki/Machine_learning\n",
        "\n",
        "https://www.logikk.com/articles/machine-learning-in-game-development/\n",
        "\n",
        "https://www.rambus.com/blogs/the-algorithms-of-no-mans-sky-2/\n",
        "\n",
        "https://en.wikipedia.org/wiki/Superformula"
      ]
    }
  ]
}